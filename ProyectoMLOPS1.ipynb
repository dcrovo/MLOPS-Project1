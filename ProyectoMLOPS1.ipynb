{
 "cells": [
  {
   "cell_type": "code",
   "execution_count": 15,
   "id": "9e66bef4-ad71-407b-a48c-685572861c70",
   "metadata": {
    "tags": []
   },
   "outputs": [
    {
     "name": "stdout",
     "output_type": "stream",
     "text": [
      "TF version: 2.13.0\n",
      "TFDV version: 1.14.0\n"
     ]
    }
   ],
   "source": [
    "# Import libraries\n",
    "import os\n",
    "import requests\n",
    "import pandas as pd\n",
    "import tensorflow as tf\n",
    "import tensorflow_data_validation as tfdv\n",
    "from sklearn.model_selection import train_test_split\n",
    "from sklearn.feature_selection import SelectKBest, f_classif\n",
    "print('TF version:', tf.__version__)\n",
    "print('TFDV version:', tfdv.version.__version__)"
   ]
  },
  {
   "cell_type": "markdown",
   "id": "7c8914f5-dbb3-4da5-8070-4b3191bd92d2",
   "metadata": {},
   "source": [
    "# 2. Descripción del Conjunto de Datos"
   ]
  },
  {
   "cell_type": "code",
   "execution_count": 3,
   "id": "0cb6d98e-eeab-4d64-b40a-274282228622",
   "metadata": {
    "tags": []
   },
   "outputs": [],
   "source": [
    "## download the dataset\n",
    "# Directory of the raw data files\n",
    "_data_root = './data/covertype'\n",
    "# Path to the raw training data\n",
    "_data_filepath = os.path.join(_data_root, 'covertype_train.csv')\n",
    "# Download data\n",
    "os.makedirs(_data_root, exist_ok=True)\n",
    "if not os.path.isfile(_data_filepath):\n",
    "    #https://archive.ics.uci.edu/ml/machine-learning-databases/covtype/\n",
    "    url = 'https://docs.google.com/uc?export= \\\n",
    "    download&confirm={{VALUE}}&id=1lVF1BCWLH4eXXV_YOJzjR7xZjj-wAGj9'\n",
    "    r = requests.get(url, allow_redirects=True, stream=True)\n",
    "    open(_data_filepath, 'wb').write(r.content)"
   ]
  },
  {
   "cell_type": "code",
   "execution_count": 13,
   "id": "2e1f910b-5498-45a6-90e2-50414d5d0e43",
   "metadata": {
    "tags": []
   },
   "outputs": [],
   "source": [
    "data = pd.read_csv(_data_filepath)"
   ]
  },
  {
   "cell_type": "code",
   "execution_count": 14,
   "id": "c237cff1-6bd8-41fb-9ae0-aba64618d761",
   "metadata": {
    "tags": []
   },
   "outputs": [
    {
     "data": {
      "text/html": [
       "<div>\n",
       "<style scoped>\n",
       "    .dataframe tbody tr th:only-of-type {\n",
       "        vertical-align: middle;\n",
       "    }\n",
       "\n",
       "    .dataframe tbody tr th {\n",
       "        vertical-align: top;\n",
       "    }\n",
       "\n",
       "    .dataframe thead th {\n",
       "        text-align: right;\n",
       "    }\n",
       "</style>\n",
       "<table border=\"1\" class=\"dataframe\">\n",
       "  <thead>\n",
       "    <tr style=\"text-align: right;\">\n",
       "      <th></th>\n",
       "      <th>Elevation</th>\n",
       "      <th>Aspect</th>\n",
       "      <th>Slope</th>\n",
       "      <th>Horizontal_Distance_To_Hydrology</th>\n",
       "      <th>Vertical_Distance_To_Hydrology</th>\n",
       "      <th>Horizontal_Distance_To_Roadways</th>\n",
       "      <th>Hillshade_9am</th>\n",
       "      <th>Hillshade_Noon</th>\n",
       "      <th>Hillshade_3pm</th>\n",
       "      <th>Horizontal_Distance_To_Fire_Points</th>\n",
       "      <th>Wilderness_Area</th>\n",
       "      <th>Soil_Type</th>\n",
       "      <th>Cover_Type</th>\n",
       "    </tr>\n",
       "  </thead>\n",
       "  <tbody>\n",
       "    <tr>\n",
       "      <th>0</th>\n",
       "      <td>2991</td>\n",
       "      <td>119</td>\n",
       "      <td>7</td>\n",
       "      <td>67</td>\n",
       "      <td>11</td>\n",
       "      <td>1015</td>\n",
       "      <td>233</td>\n",
       "      <td>234</td>\n",
       "      <td>133</td>\n",
       "      <td>1570</td>\n",
       "      <td>Commanche</td>\n",
       "      <td>C7202</td>\n",
       "      <td>1</td>\n",
       "    </tr>\n",
       "    <tr>\n",
       "      <th>1</th>\n",
       "      <td>2876</td>\n",
       "      <td>3</td>\n",
       "      <td>18</td>\n",
       "      <td>485</td>\n",
       "      <td>71</td>\n",
       "      <td>2495</td>\n",
       "      <td>192</td>\n",
       "      <td>202</td>\n",
       "      <td>144</td>\n",
       "      <td>1557</td>\n",
       "      <td>Commanche</td>\n",
       "      <td>C7757</td>\n",
       "      <td>1</td>\n",
       "    </tr>\n",
       "    <tr>\n",
       "      <th>2</th>\n",
       "      <td>3171</td>\n",
       "      <td>315</td>\n",
       "      <td>2</td>\n",
       "      <td>277</td>\n",
       "      <td>9</td>\n",
       "      <td>4374</td>\n",
       "      <td>213</td>\n",
       "      <td>237</td>\n",
       "      <td>162</td>\n",
       "      <td>1052</td>\n",
       "      <td>Rawah</td>\n",
       "      <td>C7745</td>\n",
       "      <td>0</td>\n",
       "    </tr>\n",
       "    <tr>\n",
       "      <th>3</th>\n",
       "      <td>3087</td>\n",
       "      <td>342</td>\n",
       "      <td>13</td>\n",
       "      <td>190</td>\n",
       "      <td>31</td>\n",
       "      <td>4774</td>\n",
       "      <td>193</td>\n",
       "      <td>221</td>\n",
       "      <td>166</td>\n",
       "      <td>752</td>\n",
       "      <td>Rawah</td>\n",
       "      <td>C7745</td>\n",
       "      <td>0</td>\n",
       "    </tr>\n",
       "    <tr>\n",
       "      <th>4</th>\n",
       "      <td>2835</td>\n",
       "      <td>158</td>\n",
       "      <td>10</td>\n",
       "      <td>212</td>\n",
       "      <td>41</td>\n",
       "      <td>3596</td>\n",
       "      <td>231</td>\n",
       "      <td>242</td>\n",
       "      <td>141</td>\n",
       "      <td>3280</td>\n",
       "      <td>Rawah</td>\n",
       "      <td>C4744</td>\n",
       "      <td>1</td>\n",
       "    </tr>\n",
       "  </tbody>\n",
       "</table>\n",
       "</div>"
      ],
      "text/plain": [
       "   Elevation  Aspect  Slope  Horizontal_Distance_To_Hydrology  \\\n",
       "0       2991     119      7                                67   \n",
       "1       2876       3     18                               485   \n",
       "2       3171     315      2                               277   \n",
       "3       3087     342     13                               190   \n",
       "4       2835     158     10                               212   \n",
       "\n",
       "   Vertical_Distance_To_Hydrology  Horizontal_Distance_To_Roadways  \\\n",
       "0                              11                             1015   \n",
       "1                              71                             2495   \n",
       "2                               9                             4374   \n",
       "3                              31                             4774   \n",
       "4                              41                             3596   \n",
       "\n",
       "   Hillshade_9am  Hillshade_Noon  Hillshade_3pm  \\\n",
       "0            233             234            133   \n",
       "1            192             202            144   \n",
       "2            213             237            162   \n",
       "3            193             221            166   \n",
       "4            231             242            141   \n",
       "\n",
       "   Horizontal_Distance_To_Fire_Points Wilderness_Area Soil_Type  Cover_Type  \n",
       "0                                1570       Commanche     C7202           1  \n",
       "1                                1557       Commanche     C7757           1  \n",
       "2                                1052           Rawah     C7745           0  \n",
       "3                                 752           Rawah     C7745           0  \n",
       "4                                3280           Rawah     C4744           1  "
      ]
     },
     "execution_count": 14,
     "metadata": {},
     "output_type": "execute_result"
    }
   ],
   "source": [
    "data.head()"
   ]
  },
  {
   "cell_type": "code",
   "execution_count": 18,
   "id": "d65e7e96-063d-413b-8d7f-cc311d118a01",
   "metadata": {
    "tags": []
   },
   "outputs": [
    {
     "name": "stdout",
     "output_type": "stream",
     "text": [
      "<class 'pandas.core.frame.DataFrame'>\n",
      "RangeIndex: 116203 entries, 0 to 116202\n",
      "Data columns (total 13 columns):\n",
      " #   Column                              Non-Null Count   Dtype \n",
      "---  ------                              --------------   ----- \n",
      " 0   Elevation                           116203 non-null  int64 \n",
      " 1   Aspect                              116203 non-null  int64 \n",
      " 2   Slope                               116203 non-null  int64 \n",
      " 3   Horizontal_Distance_To_Hydrology    116203 non-null  int64 \n",
      " 4   Vertical_Distance_To_Hydrology      116203 non-null  int64 \n",
      " 5   Horizontal_Distance_To_Roadways     116203 non-null  int64 \n",
      " 6   Hillshade_9am                       116203 non-null  int64 \n",
      " 7   Hillshade_Noon                      116203 non-null  int64 \n",
      " 8   Hillshade_3pm                       116203 non-null  int64 \n",
      " 9   Horizontal_Distance_To_Fire_Points  116203 non-null  int64 \n",
      " 10  Wilderness_Area                     116203 non-null  object\n",
      " 11  Soil_Type                           116203 non-null  object\n",
      " 12  Cover_Type                          116203 non-null  int64 \n",
      "dtypes: int64(11), object(2)\n",
      "memory usage: 11.5+ MB\n"
     ]
    }
   ],
   "source": [
    "data.info()"
   ]
  },
  {
   "cell_type": "markdown",
   "id": "fc41b0f7-756a-4839-8337-7bd73e9dd905",
   "metadata": {},
   "source": [
    "## Inicializar el repositorio de DVC y añadir los datos"
   ]
  },
  {
   "cell_type": "code",
   "execution_count": 4,
   "id": "12339295-d6d3-4fff-8d95-1cd1f18f913e",
   "metadata": {
    "tags": []
   },
   "outputs": [
    {
     "name": "stdout",
     "output_type": "stream",
     "text": [
      "Initialized DVC repository.\n",
      "\n",
      "You can now commit the changes to git.\n",
      "\n",
      "\u001b[31m+---------------------------------------------------------------------+\n",
      "\u001b[0m\u001b[31m|\u001b[0m                                                                     \u001b[31m|\u001b[0m\n",
      "\u001b[31m|\u001b[0m        DVC has enabled anonymous aggregate usage analytics.         \u001b[31m|\u001b[0m\n",
      "\u001b[31m|\u001b[0m     Read the analytics documentation (and how to opt-out) here:     \u001b[31m|\u001b[0m\n",
      "\u001b[31m|\u001b[0m             <\u001b[36mhttps://dvc.org/doc/user-guide/analytics\u001b[39m>              \u001b[31m|\u001b[0m\n",
      "\u001b[31m|\u001b[0m                                                                     \u001b[31m|\u001b[0m\n",
      "\u001b[31m+---------------------------------------------------------------------+\n",
      "\u001b[0m\n",
      "\u001b[33mWhat's next?\u001b[39m\n",
      "\u001b[33m------------\u001b[39m\n",
      "- Check out the documentation: <\u001b[36mhttps://dvc.org/doc\u001b[39m>\n",
      "- Get help and share ideas: <\u001b[36mhttps://dvc.org/chat\u001b[39m>\n",
      "- Star us on GitHub: <\u001b[36mhttps://github.com/iterative/dvc\u001b[39m>\n",
      "\u001b[0m"
     ]
    }
   ],
   "source": [
    "!dvc init"
   ]
  },
  {
   "cell_type": "code",
   "execution_count": 8,
   "id": "f0744267-3ad5-4e76-97b5-c3e1cbdf9abc",
   "metadata": {
    "tags": []
   },
   "outputs": [
    {
     "name": "stdout",
     "output_type": "stream",
     "text": [
      "[main 06c1f44] Initialize DVC\n",
      " 3 files changed, 6 insertions(+)\n",
      " create mode 100644 .dvc/.gitignore\n",
      " create mode 100644 .dvc/config\n",
      " create mode 100644 .dvcignore\n"
     ]
    }
   ],
   "source": [
    "!git commit -m 'Initialize DVC'"
   ]
  },
  {
   "cell_type": "code",
   "execution_count": 9,
   "id": "369a70fb-a46d-4df0-9216-9000d403b912",
   "metadata": {
    "tags": []
   },
   "outputs": [
    {
     "name": "stdout",
     "output_type": "stream",
     "text": [
      "\u001b[?25l\u001b[32m⠋\u001b[0m Checking graph                                       core\u001b[39m>\n",
      "Adding...                                                                       \n",
      "!\u001b[A\n",
      "Collecting files and computing hashes in data         |0.00 [00:00,     ?file/s]\u001b[A\n",
      "                                                                                \u001b[A\n",
      "!\u001b[A\n",
      "  0% Checking cache in '/work/.dvc/cache/files/md5'| |0/? [00:00<?,    ?files/s]\u001b[A\n",
      "                                                                                \u001b[A\n",
      "!\u001b[A\n",
      "  0%|          |Adding data to cache                  0/1 [00:00<?,     ?file/s]\u001b[A\n",
      "                                                                                \u001b[A\n",
      "!\u001b[A\n",
      "  0%|          |Checking out /work/data               0/2 [00:00<?,    ?files/s]\u001b[A\n",
      "100% Adding...|████████████████████████████████████████|1/1 [00:00, 24.26file/s]\u001b[A\n",
      "\n",
      "To track the changes with git, run:\n",
      "\n",
      "\tgit add .gitignore data.dvc\n",
      "\n",
      "To enable auto staging, run:\n",
      "\n",
      "\tdvc config core.autostage true\n",
      "\u001b[0m"
     ]
    }
   ],
   "source": [
    "!dvc add data/"
   ]
  },
  {
   "cell_type": "markdown",
   "id": "9b304bb3-4a3f-4b09-af91-9b4cfca511c2",
   "metadata": {
    "tags": []
   },
   "source": [
    "# 3. Seleción de características"
   ]
  },
  {
   "cell_type": "code",
   "execution_count": 22,
   "id": "a29216e6-709e-4968-a702-7673ff217184",
   "metadata": {
    "tags": []
   },
   "outputs": [],
   "source": []
  },
  {
   "cell_type": "code",
   "execution_count": 41,
   "id": "48dd8541-1ffe-4533-b839-75813ad1ef25",
   "metadata": {
    "tags": []
   },
   "outputs": [],
   "source": [
    "# Selecciona solo las características numéricas\n",
    "data_numeric_features = data.select_dtypes(include=['number'])\n",
    "# Separar target de features\n",
    "X = data_numeric_features.drop('Cover_Type', axis=1)  # Assuming 'Cover_Type' is the target\n",
    "y = data['Cover_Type']\n",
    "\n",
    "# Feature selection\n",
    "selector = SelectKBest(f_classif, k=8) \n",
    "X_new = selector.fit_transform(X, y)\n",
    "\n",
    "selected_features = X.columns[selector.get_support()]\n",
    "features_retain = {feature: (feature in selected_features) for feature in X.columns}"
   ]
  },
  {
   "cell_type": "code",
   "execution_count": 42,
   "id": "d6b8d80a-10f5-4e58-83e4-536c2ff3c8de",
   "metadata": {
    "tags": []
   },
   "outputs": [
    {
     "data": {
      "text/plain": [
       "{'Elevation': True,\n",
       " 'Aspect': False,\n",
       " 'Slope': True,\n",
       " 'Horizontal_Distance_To_Hydrology': True,\n",
       " 'Vertical_Distance_To_Hydrology': True,\n",
       " 'Horizontal_Distance_To_Roadways': True,\n",
       " 'Hillshade_9am': True,\n",
       " 'Hillshade_Noon': True,\n",
       " 'Hillshade_3pm': False,\n",
       " 'Horizontal_Distance_To_Fire_Points': True}"
      ]
     },
     "execution_count": 42,
     "metadata": {},
     "output_type": "execute_result"
    }
   ],
   "source": [
    "features_retain"
   ]
  },
  {
   "cell_type": "code",
   "execution_count": 47,
   "id": "0b705da8-76ef-49ea-a753-3f4108062fe5",
   "metadata": {
    "tags": []
   },
   "outputs": [],
   "source": [
    "data_selected_features = data[list(selected_features) + ['Cover_Type']]"
   ]
  },
  {
   "cell_type": "code",
   "execution_count": 49,
   "id": "b9a7f8c4-3038-4f01-aca5-3e360cb18e39",
   "metadata": {
    "tags": []
   },
   "outputs": [
    {
     "name": "stdout",
     "output_type": "stream",
     "text": [
      "<class 'pandas.core.frame.DataFrame'>\n",
      "RangeIndex: 116203 entries, 0 to 116202\n",
      "Data columns (total 9 columns):\n",
      " #   Column                              Non-Null Count   Dtype\n",
      "---  ------                              --------------   -----\n",
      " 0   Elevation                           116203 non-null  int64\n",
      " 1   Slope                               116203 non-null  int64\n",
      " 2   Horizontal_Distance_To_Hydrology    116203 non-null  int64\n",
      " 3   Vertical_Distance_To_Hydrology      116203 non-null  int64\n",
      " 4   Horizontal_Distance_To_Roadways     116203 non-null  int64\n",
      " 5   Hillshade_9am                       116203 non-null  int64\n",
      " 6   Hillshade_Noon                      116203 non-null  int64\n",
      " 7   Horizontal_Distance_To_Fire_Points  116203 non-null  int64\n",
      " 8   Cover_Type                          116203 non-null  int64\n",
      "dtypes: int64(9)\n",
      "memory usage: 8.0 MB\n"
     ]
    }
   ],
   "source": [
    "data_selected_features.info()"
   ]
  },
  {
   "cell_type": "code",
   "execution_count": null,
   "id": "6e6af32b-defb-4dd4-a432-24058d40908a",
   "metadata": {},
   "outputs": [],
   "source": []
  }
 ],
 "metadata": {
  "kernelspec": {
   "display_name": "Python 3 (ipykernel)",
   "language": "python",
   "name": "python3"
  },
  "language_info": {
   "codemirror_mode": {
    "name": "ipython",
    "version": 3
   },
   "file_extension": ".py",
   "mimetype": "text/x-python",
   "name": "python",
   "nbconvert_exporter": "python",
   "pygments_lexer": "ipython3",
   "version": "3.10.12"
  }
 },
 "nbformat": 4,
 "nbformat_minor": 5
}
